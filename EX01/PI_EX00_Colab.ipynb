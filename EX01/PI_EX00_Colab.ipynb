{
  "nbformat": 4,
  "nbformat_minor": 0,
  "metadata": {
    "colab": {
      "provenance": [],
      "authorship_tag": "ABX9TyOYwdBnTK8Z9Taw9+TjPhIA",
      "include_colab_link": true
    },
    "kernelspec": {
      "name": "python3",
      "display_name": "Python 3"
    },
    "language_info": {
      "name": "python"
    }
  },
  "cells": [
    {
      "cell_type": "markdown",
      "metadata": {
        "id": "view-in-github",
        "colab_type": "text"
      },
      "source": [
        "<a href=\"https://colab.research.google.com/github/WMB25/scientific-computing-project/blob/Exercise/EX01/PI_EX00.ipynb\" target=\"_parent\"><img src=\"https://colab.research.google.com/assets/colab-badge.svg\" alt=\"Open In Colab\"/></a>"
      ]
    },
    {
      "cell_type": "markdown",
      "source": [
        "**EX00:**\n",
        "Fazer um módulo que converte: ***Pé -> Metros -> Pé***. *Entrada do usuário que define a conversão*"
      ],
      "metadata": {
        "id": "Pfb9v3l9IZ7S"
      }
    },
    {
      "cell_type": "code",
      "execution_count": null,
      "metadata": {
        "id": "lpcHwrB7ITHR"
      },
      "outputs": [],
      "source": [
        "import os, sys"
      ]
    },
    {
      "cell_type": "code",
      "source": [
        "UNIT_VALUES = {\n",
        "    'pe' : 0.3048,\n",
        "    'jarda' : 0.9144,\n",
        "    'metro' : 1\n",
        "}"
      ],
      "metadata": {
        "id": "RwaehxzlJPCu"
      },
      "execution_count": null,
      "outputs": []
    },
    {
      "cell_type": "code",
      "source": [
        "def Check_value_unit(value_unit):\n",
        "    value_unit = value_unit.lower().strip().replace('é','e')\n",
        "    if(value_unit.endswith('s')):\n",
        "        value_unit = value_unit[:-1]\n",
        "    return value_unit"
      ],
      "metadata": {
        "id": "xzclG498JrLF"
      },
      "execution_count": null,
      "outputs": []
    },
    {
      "cell_type": "code",
      "source": [
        "print(\"Conversor de Distancia:\\n\")\n",
        "value_unit = input(\"Digite a unidade de medida que será convertida (pé, jarda, metro): \")\n",
        "value = float(input(\"Digite o Valor: \"))\n",
        "value_unit_to_convert = input(\"Digite para o que deve ser convertido (pé, jarda, metro): \")"
      ],
      "metadata": {
        "colab": {
          "base_uri": "https://localhost:8080/"
        },
        "id": "_zRbyDcWKQsM",
        "outputId": "0557902f-f8ba-485e-9a21-948ecfc516b9"
      },
      "execution_count": null,
      "outputs": [
        {
          "name": "stdout",
          "output_type": "stream",
          "text": [
            "Conversor de Distancia:\n",
            "\n",
            "Digite a unidade de medida que será convertida (pé, jarda, metro): jarda\n",
            "Digite o Valor: 5\n",
            "Digite para o que deve ser convertido (pé, jarda, metro): metro\n"
          ]
        }
      ]
    },
    {
      "cell_type": "code",
      "source": [
        "origin_unit = Check_value_unit(value_unit)\n",
        "destination_unit = Check_value_unit(value_unit_to_convert)\n",
        "\n",
        "if(origin_unit not in UNIT_VALUES or destination_unit not in UNIT_VALUES):\n",
        "    print(\"Unidade Invalida!\\n\")\n",
        "else:\n",
        "    meters = value * UNIT_VALUES[origin_unit]\n",
        "    result = meters / UNIT_VALUES[destination_unit]"
      ],
      "metadata": {
        "id": "1qax7V6GLImh"
      },
      "execution_count": null,
      "outputs": []
    },
    {
      "cell_type": "code",
      "source": [
        "str_result = f\"{result:.4f}\".replace('.', ',')\n",
        "str_result = str_result.rstrip('0').rstrip(',')\n",
        "print(f\"Saída: {str_result}\")"
      ],
      "metadata": {
        "colab": {
          "base_uri": "https://localhost:8080/"
        },
        "id": "iOh0w2LGLcmz",
        "outputId": "59f641f2-8387-49f2-b94b-0ba814f6fe9f"
      },
      "execution_count": null,
      "outputs": [
        {
          "output_type": "stream",
          "name": "stdout",
          "text": [
            "Saída: 4,572\n"
          ]
        }
      ]
    }
  ]
}
