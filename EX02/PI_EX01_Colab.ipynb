{
  "nbformat": 4,
  "nbformat_minor": 0,
  "metadata": {
    "colab": {
      "provenance": [],
      "authorship_tag": "ABX9TyOHRIY7eiQdHQPfDl0blXjR",
      "include_colab_link": true
    },
    "kernelspec": {
      "name": "python3",
      "display_name": "Python 3"
    },
    "language_info": {
      "name": "python"
    }
  },
  "cells": [
    {
      "cell_type": "markdown",
      "metadata": {
        "id": "view-in-github",
        "colab_type": "text"
      },
      "source": [
        "<a href=\"https://colab.research.google.com/github/WMB25/scientific-computing-project/blob/Exercise/EX02/PI_EX01_Colab.ipynb\" target=\"_parent\"><img src=\"https://colab.research.google.com/assets/colab-badge.svg\" alt=\"Open In Colab\"/></a>"
      ]
    },
    {
      "cell_type": "markdown",
      "source": [
        "Dando o seguinte dataset de temperaturas de um sensor metereológico em um ano (100 dias):"
      ],
      "metadata": {
        "id": "lu8CtaSsUy-Y"
      }
    },
    {
      "cell_type": "code",
      "execution_count": 1,
      "metadata": {
        "id": "c8sVkENnUcJT"
      },
      "outputs": [],
      "source": [
        "import os, sys, numpy as np"
      ]
    },
    {
      "cell_type": "code",
      "source": [
        "temperaturas = np.array([2.5, 3.2, 5.1, 6.3, 7.0, 8.1, 10.5, 9.8, 8.5, 7.3,\n",
        "    6.2, 5.1, 4.5, 3.8, 5.6, 6.7, 7.2, 8.3, 10.1, 9.4,\n",
        "    8.2, 7.0, 6.3, 5.4, 4.7, 3.9, 5.8, 6.9, 7.4, 8.5,\n",
        "    10.3, 9.6, 8.4, 7.2, 6.5, 5.6, 4.9, 4.1, 5.9, 7.0,\n",
        "    7.5, 8.6, 10.4, 9.7, 8.5, 7.3, 6.6, 5.7, 5.0, 4.2,\n",
        "    6.0, 7.1, 7.6, 8.7, 10.6, 9.9, 8.7, 7.5, 6.8, 5.9,\n",
        "    5.2, 4.4, 6.1, 7.2, 7.7, 8.8, 10.7, 10.0, 8.8, 7.6,\n",
        "    6.9, 6.0, 5.3, 4.5, 6.2, 7.3, 7.8, 8.9, 10.8, 10.2,\n",
        "    9.0, 7.8, 7.1, 6.2, 5.5, 4.7, 6.3, 7.4, 7.9, 9.0,\n",
        "    10.9, 10.3, 9.1, 7.9, 7.2, 6.3, 5.6, 4.8, 6.4, 7.5])"
      ],
      "metadata": {
        "id": "wK7jDH83VEZP"
      },
      "execution_count": 3,
      "outputs": []
    },
    {
      "cell_type": "markdown",
      "source": [
        "Calcule usando Numpy:\n",
        "1. Análise Estatística: Calcule a média, mediana e desvio padrão das temperaturas usando Numpy.\n",
        "2. Classificação de Temperaturas: pode definir os limites para cada categoria. Por exemplo:\n",
        "Classifique cada dia como \"frio\", \"moderado\" ou \"quente\". Você\n",
        "  • Frio: Temperatura abaixo de 5 graus. • Moderado: Temperatura entre 5 e 15 graus.\n",
        "  • Quente: Temperatura acima de 15 graus.\n",
        "3. Dias Extremos: Identifique os dias mais frios e mais quentes do ano."
      ],
      "metadata": {
        "id": "GZE4QrzjVOhT"
      }
    },
    {
      "cell_type": "code",
      "source": [
        "statiscal_average = np.mean(temperaturas)\n",
        "median_statistic = np.median(temperaturas)\n",
        "standard_deviation = np.std(temperaturas)"
      ],
      "metadata": {
        "id": "lNJeI5fTVUyi"
      },
      "execution_count": 4,
      "outputs": []
    },
    {
      "cell_type": "code",
      "source": [
        "cold = temperaturas < 5\n",
        "moderates = (temperaturas >= 5) & (temperaturas <= 15)\n",
        "hot = temperaturas > 15"
      ],
      "metadata": {
        "id": "YkegTy0wVtKb"
      },
      "execution_count": 5,
      "outputs": []
    },
    {
      "cell_type": "code",
      "source": [
        "days_cold = np.sum(cold)\n",
        "days_moderates = np.sum(moderates)\n",
        "days_hot = np.sum(hot)"
      ],
      "metadata": {
        "id": "kfKkoaiqVvxC"
      },
      "execution_count": 6,
      "outputs": []
    },
    {
      "cell_type": "code",
      "source": [
        "very_hot_day= np.argmin(temperaturas)\n",
        "temp_very_hot_day = np.max(temperaturas)\n",
        "very_cold_day = np.argmax(temperaturas)\n",
        "temp_very_cold_day = np.min(temperaturas)"
      ],
      "metadata": {
        "id": "LQk1O2QxVxs3"
      },
      "execution_count": 7,
      "outputs": []
    },
    {
      "cell_type": "code",
      "source": [
        "print(f\"Media de temperatura: {statiscal_average:.2f}C\")\n",
        "print(f\"Mediana da temperatura: {median_statistic:.2f}C\")\n",
        "print(f\"Desvio de padrões de temperatura: {standard_deviation:.2f}C\\n\")\n",
        "\n",
        "print(f\"Temperaturas abaixo de 5 graus: {days_cold} dias\")\n",
        "print(f\"Temperaturas entre e e 15 garus: {days_moderates} dias\")\n",
        "print(f\"Temperaturas Acima de 15 graus: {days_hot} dias\\n\")\n",
        "\n",
        "print(f\"Dia mais frio: {very_cold_day} -> {temp_very_cold_day}C\")\n",
        "print(f\"Dia mais quente: {very_hot_day} -> {temp_very_hot_day}C\")"
      ],
      "metadata": {
        "colab": {
          "base_uri": "https://localhost:8080/"
        },
        "id": "m4TbqFf6V0eM",
        "outputId": "90216b6d-29bf-442d-8bbb-f7e2ba6654f7"
      },
      "execution_count": 8,
      "outputs": [
        {
          "output_type": "stream",
          "name": "stdout",
          "text": [
            "Media de temperatura: 7.18C\n",
            "Mediana da temperatura: 7.20C\n",
            "Desvio de padrões de temperatura: 1.91C\n",
            "\n",
            "Temperaturas abaixo de 5 graus: 13 dias\n",
            "Temperaturas entre e e 15 garus: 87 dias\n",
            "Temperaturas Acima de 15 graus: 0 dias\n",
            "\n",
            "Dia mais frio: 90 -> 2.5C\n",
            "Dia mais quente: 0 -> 10.9C\n"
          ]
        }
      ]
    }
  ]
}